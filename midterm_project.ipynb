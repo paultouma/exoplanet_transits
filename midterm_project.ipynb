{
 "cells": [
  {
   "cell_type": "code",
   "execution_count": 1,
   "metadata": {},
   "outputs": [],
   "source": [
    "#imports\n",
    "import datetime\n",
    "import jdcal\n",
    "import pandas\n",
    "import io\n",
    "import json\n",
    "\n",
    "exo_planet_information = [] #list of dictionaries of exoplanet information\n",
    "\n",
    "#get getting all of the information from the csv file\n",
    "def get_all_exo_planet_information():\n",
    "    data = pandas.read_csv('exo_planets.csv')\n",
    "    for i in range(len(data[\"pl_hostname\"])):\n",
    "        planet = {\n",
    "            'star_host_name': data[\"pl_hostname\"][i],\n",
    "            'name': data[\"pl_name\"][i],\n",
    "            'discovery_method': data[\"pl_discmethod\"][i],\n",
    "            'orbital_period': data[\"pl_orbper\"][i],\n",
    "            'stellar_distance': data[\"st_dist\"][i],\n",
    "            'stellar_mass': data[\"st_mass\"][i],\n",
    "            'stellar_radius': data[\"st_rad\"][i],\n",
    "            'planet_radius': data[\"pl_rade\"][i],\n",
    "            'duration': data[\"pl_trandur\"][i],\n",
    "            'midpoint_julian': data[\"pl_tranmid\"][i],\n",
    "            'facility_discovered': data[\"pl_facility\"][i],\n",
    "        }\n",
    "        exo_planet_information.append(planet)\n",
    "        \n",
    "get_all_exo_planet_information()"
   ]
  },
  {
   "cell_type": "code",
   "execution_count": 2,
   "metadata": {},
   "outputs": [],
   "source": [
    "#converting julian_date to gregorian date\n",
    "def convert_julian_days_to_legible_date(julian_date):\n",
    "    \n",
    "    y, m, d, f = jdcal.jd2jcal(julian_date, 0)\n",
    "    date_time_obj = datetime.datetime(y,m,d) + datetime.timedelta(f)\n",
    "    \n",
    "    return date_time_obj"
   ]
  },
  {
   "cell_type": "code",
   "execution_count": 3,
   "metadata": {},
   "outputs": [
    {
     "data": {
      "text/plain": [
       "1736"
      ]
     },
     "execution_count": 3,
     "metadata": {},
     "output_type": "execute_result"
    }
   ],
   "source": [
    "#methods below compute the next transit given the information of an exoplanet\n",
    "def compute_next_transit(exoplanet_info):\n",
    "    transit_start = compute_transit_start_julian(exoplanet_info)\n",
    "    transit_end = compute_transit_end_julian(exoplanet_info)\n",
    "    \n",
    "    delta = compute_transit_delta(exoplanet_info)\n",
    "    now = datetime.datetime.now()\n",
    "    \n",
    "    while(convert_julian_days_to_legible_date(transit_start) < now):\n",
    "        transit_start += delta\n",
    "        transit_end += delta\n",
    "    \n",
    "    return (convert_julian_days_to_legible_date(transit_start).strftime('%Y %b %d %H:%M:%S.%f'),\n",
    "            convert_julian_days_to_legible_date(transit_end).strftime('%Y %b %d %H:%M:%S.%f'))\n",
    "    \n",
    "def compute_transit_delta(exoplanet_info): \n",
    "    return exoplanet_info['orbital_period']\n",
    "\n",
    "def compute_transit_start_julian(exo_planet_info):\n",
    "    midpoint = exo_planet_info[\"midpoint_julian\"]\n",
    "    duration_to_midpoint = exo_planet_info[\"duration\"] / 2\n",
    "    start_time = midpoint - duration_to_midpoint\n",
    "    \n",
    "    return start_time\n",
    "\n",
    "def compute_transit_end_julian(exo_planet_info):\n",
    "    midpoint = exo_planet_info[\"midpoint_julian\"]\n",
    "    duration_to_midpoint = exo_planet_info[\"duration\"] / 2\n",
    "    start_time = midpoint + duration_to_midpoint\n",
    "    \n",
    "    return start_time\n",
    "\n",
    "temp_info = [(i, compute_next_transit(i)) for i in exo_planet_information]\n",
    "\n",
    "transit_info = []\n",
    "for info, transit in temp_info:\n",
    "    info[\"next_transit_start\"] = transit[0]\n",
    "    info[\"next_transit_end\"] = transit[1]\n",
    "    transit_info.append(info)\n",
    "    \n",
    "len(transit_info)"
   ]
  },
  {
   "cell_type": "code",
   "execution_count": 9,
   "metadata": {},
   "outputs": [
    {
     "data": {
      "text/plain": [
       "714816"
      ]
     },
     "execution_count": 9,
     "metadata": {},
     "output_type": "execute_result"
    }
   ],
   "source": [
    "f= open(\"exo_planets.txt\",\"w+\")\n",
    "f.write(str(transit_info))"
   ]
  },
  {
   "cell_type": "code",
   "execution_count": null,
   "metadata": {},
   "outputs": [],
   "source": []
  }
 ],
 "metadata": {
  "kernelspec": {
   "display_name": "Python 3",
   "language": "python",
   "name": "python3"
  },
  "language_info": {
   "codemirror_mode": {
    "name": "ipython",
    "version": 3
   },
   "file_extension": ".py",
   "mimetype": "text/x-python",
   "name": "python",
   "nbconvert_exporter": "python",
   "pygments_lexer": "ipython3",
   "version": "3.7.2"
  }
 },
 "nbformat": 4,
 "nbformat_minor": 2
}
