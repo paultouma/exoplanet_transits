{
 "cells": [
  {
   "cell_type": "code",
   "execution_count": 26,
   "metadata": {},
   "outputs": [],
   "source": [
    "#imports\n",
    "import datetime\n",
    "from bs4 import BeautifulSoup\n",
    "import requests\n",
    "\n",
    "exo_planet_information = [] #list of dictionaries of exoplanet information, eventually to be filled up with scraped\n",
    "# information from exoplanetarchive.ipac.caltech.edu\n",
    "\n",
    "#example exoplanet (Kepler-186 f), each exoplanet information object will consist of the following:\n",
    "kepler_186f = {\n",
    "    'midpoint_julian': 2455789.4940,\n",
    "    'duration': 0.2342,\n",
    "    'orbital_period': 129.9441,\n",
    "}\n",
    "\n",
    "exo_planet_information.append(kepler_186f)\n",
    "\n",
    "#this method is not yet filled, but by the final midterm project submission, will scrape most exoplanet information\n",
    "#for the purposes of the draft, we will only be using info for kepler_186f\n",
    "def scrape_all_exo_planet_information():\n",
    "    pass"
   ]
  },
  {
   "cell_type": "code",
   "execution_count": 27,
   "metadata": {},
   "outputs": [
    {
     "name": "stdout",
     "output_type": "stream",
     "text": [
      "2011-08-15 23:51:21.600000\n"
     ]
    }
   ],
   "source": [
    "#julian date converter URL, pass in julian date value in 'jd=''. the resulting HTML page is scraped below\n",
    "JULIAN_DATE_CONVERTER_BASE_URL = \"https://aa.usno.navy.mil/jdconverter?ID=AA&jd=\"\n",
    "\n",
    "#scrapes the resulting HTML page for the gregorian date, converts it into python datetime object\n",
    "def convert_julian_days_to_legible_date(julian_date):\n",
    "    \n",
    "    #scrape the value of gregorian date from the site\n",
    "    page = requests.get(JULIAN_DATE_CONVERTER_BASE_URL + str(julian_date))\n",
    "    soup = BeautifulSoup(page.text, 'html.parser')\n",
    "    tds = soup.find(\"table\").find_all(\"tr\")[1].find_all(\"td\")\n",
    "    \n",
    "    #get date and time attributes\n",
    "    date = tds[0].text\n",
    "    time = tds[1].text\n",
    "    \n",
    "    #manipulate and combine\n",
    "    period = date.index(\"D.\")\n",
    "    date = date[period + 3:]\n",
    "    \n",
    "    #turn into datetime object\n",
    "    date_time_str = date + \" \" + time\n",
    "    date_time_obj = datetime.datetime.strptime(date_time_str, '%Y %b %d %H:%M:%S.%f')\n",
    "    \n",
    "    return date_time_obj    \n",
    "\n",
    "print(convert_julian_days_to_legible_date(2455789.4940)) #example"
   ]
  },
  {
   "cell_type": "code",
   "execution_count": 46,
   "metadata": {},
   "outputs": [
    {
     "name": "stdout",
     "output_type": "stream",
     "text": [
      "Next Transit(start,end): ('2019 Jun 13 15:31:49.400000', '2019 Jun 13 21:09:04.300000')\n"
     ]
    }
   ],
   "source": [
    "#methods below compute the next transit given the information of an exoplanet, the Kepler-186f example is used at the end\n",
    "def compute_next_transit(exoplanet_info):\n",
    "    transit_start = compute_transit_start_julian(exoplanet_info)\n",
    "    transit_end = compute_transit_end_julian(exoplanet_info)\n",
    "    \n",
    "    delta = compute_transit_delta(exoplanet_info)\n",
    "    now = datetime.datetime.now()\n",
    "    \n",
    "    while(convert_julian_days_to_legible_date(transit_start) < now):\n",
    "        transit_start += delta\n",
    "        transit_end += delta\n",
    "    \n",
    "    return (convert_julian_days_to_legible_date(transit_start).strftime('%Y %b %d %H:%M:%S.%f'),\n",
    "            convert_julian_days_to_legible_date(transit_end).strftime('%Y %b %d %H:%M:%S.%f'))\n",
    "    \n",
    "def compute_transit_delta(exoplanet_info): \n",
    "    return exoplanet_info['orbital_period']\n",
    "\n",
    "def compute_transit_start_julian(exo_planet_info):\n",
    "    midpoint = exo_planet_info[\"midpoint_julian\"]\n",
    "    duration_to_midpoint = exo_planet_info[\"duration\"] / 2\n",
    "    \n",
    "    start_time = midpoint - duration_to_midpoint\n",
    "    \n",
    "    return start_time\n",
    "\n",
    "def compute_transit_end_julian(exo_planet_info):\n",
    "    midpoint = exo_planet_info[\"midpoint_julian\"]\n",
    "    duration_to_midpoint = exo_planet_info[\"duration\"] / 2\n",
    "    \n",
    "    start_time = midpoint + duration_to_midpoint\n",
    "    \n",
    "    return start_time\n",
    "\n",
    "print(\"Next Transit(start,end):\", compute_next_transit(exo_planet_information[0]))"
   ]
  },
  {
   "cell_type": "code",
   "execution_count": null,
   "metadata": {},
   "outputs": [],
   "source": []
  }
 ],
 "metadata": {
  "kernelspec": {
   "display_name": "Python 3",
   "language": "python",
   "name": "python3"
  },
  "language_info": {
   "codemirror_mode": {
    "name": "ipython",
    "version": 3
   },
   "file_extension": ".py",
   "mimetype": "text/x-python",
   "name": "python",
   "nbconvert_exporter": "python",
   "pygments_lexer": "ipython3",
   "version": "3.7.2"
  }
 },
 "nbformat": 4,
 "nbformat_minor": 2
}
